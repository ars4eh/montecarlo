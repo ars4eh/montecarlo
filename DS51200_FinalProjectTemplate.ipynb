{
  "cells": [
    {
      "cell_type": "markdown",
      "id": "45762487-d33f-486d-8e38-2cdea04e3528",
      "metadata": {
        "id": "45762487-d33f-486d-8e38-2cdea04e3528"
      },
      "source": [
        "# Final Project Report\n",
        "\n",
        "* Class: DS 5100\n",
        "* Student Name: Austin Samhric\n",
        "* Student Net ID: ars4eh\n",
        "* This URL: a URL to the notebook source of this document"
      ]
    },
    {
      "cell_type": "markdown",
      "id": "acf756c1-ecaa-41dc-b6ca-d566eb94560b",
      "metadata": {
        "id": "acf756c1-ecaa-41dc-b6ca-d566eb94560b"
      },
      "source": [
        "# Instructions\n",
        "\n",
        "Follow the instructions in the Final Project isntructions notebook and put evidence of your work in this notebook.\n",
        "\n",
        "Total points for each subsection under **Deliverables** and **Scenarios** are given in parentheses.\n",
        "\n",
        "Breakdowns of points within subsections are specified within subsection instructions as bulleted lists.\n",
        "\n",
        "This project is worth **50 points**."
      ]
    },
    {
      "cell_type": "markdown",
      "id": "89dc7a32-f682-4402-8c1e-b6ccdb3e0e39",
      "metadata": {
        "id": "89dc7a32-f682-4402-8c1e-b6ccdb3e0e39"
      },
      "source": [
        "# Deliverables"
      ]
    },
    {
      "cell_type": "markdown",
      "id": "d32cb273-9a40-4909-a7ce-51f6e4958d3c",
      "metadata": {
        "id": "d32cb273-9a40-4909-a7ce-51f6e4958d3c"
      },
      "source": [
        "## The Monte Carlo Module (10)\n",
        "\n",
        "- URL included, appropriately named (1).\n",
        "- Includes all three specified classes (3).\n",
        "- Includes at least all 12 specified methods (6; .5 each)."
      ]
    },
    {
      "cell_type": "markdown",
      "id": "f5f3b070-de9e-4de9-bfae-8974d184aa28",
      "metadata": {
        "id": "f5f3b070-de9e-4de9-bfae-8974d184aa28"
      },
      "source": [
        "Put the URL to your GitHub repo here.\n",
        "\n",
        "Repo URL:"
      ]
    },
    {
      "cell_type": "markdown",
      "id": "162370fb-3729-4c85-b040-8c25b2c966d2",
      "metadata": {
        "id": "162370fb-3729-4c85-b040-8c25b2c966d2"
      },
      "source": [
        "Paste a copyy of your module here.\n",
        "\n",
        "NOTE: Paste as text, not as code. Use triple backticks to wrap your code blocks."
      ]
    },
    {
      "cell_type": "code",
      "execution_count": null,
      "id": "a0743efc-a785-4b5c-a9e6-b65d4507a67f",
      "metadata": {
        "id": "a0743efc-a785-4b5c-a9e6-b65d4507a67f"
      },
      "outputs": [],
      "source": [
        "'''# montecarlo.py\n",
        "\n",
        "import numpy as np\n",
        "import pandas as pd\n",
        "from itertools import permutations, combinations_with_replacement\n",
        "\n",
        "\n",
        "class Die:\n",
        "    \"\"\"\n",
        "    A Die has N sides/faces and associated weights.\n",
        "\n",
        "    Methods:\n",
        "    - change_weight(face, new_weight): Change the weight of a single face.\n",
        "    - roll(n=1): Roll the die n times and return results as a list.\n",
        "    - show(): Return the internal dataframe of faces and weights.\n",
        "    \"\"\"\n",
        "\n",
        "    def __init__(self, faces: np.ndarray):\n",
        "        \"\"\"\n",
        "        Initialize the Die object with an array of faces.\n",
        "\n",
        "        Parameters\n",
        "        ----------\n",
        "        faces : np.ndarray\n",
        "            An array of distinct faces (strings or numbers).\n",
        "\n",
        "        Raises\n",
        "        ------\n",
        "        TypeError\n",
        "            If faces is not a NumPy array.\n",
        "        ValueError\n",
        "            If faces are not distinct.\n",
        "        \"\"\"\n",
        "        if not isinstance(faces, np.ndarray):\n",
        "            raise TypeError(\"Faces must be a NumPy array.\")\n",
        "        if len(set(faces)) != len(faces):\n",
        "            raise ValueError(\"Faces must be distinct.\")\n",
        "\n",
        "        # Initialize all weights to 1.0\n",
        "        self._df = pd.DataFrame({'face': faces, 'weight': np.ones(len(faces))})\n",
        "        self._df.set_index('face', inplace=True)\n",
        "\n",
        "    def change_weight(self, face, new_weight):\n",
        "        \"\"\"\n",
        "        Change the weight of a single side of the die.\n",
        "\n",
        "        Parameters\n",
        "        ----------\n",
        "        face : str or int\n",
        "            The face whose weight is to be changed.\n",
        "        new_weight : float or int\n",
        "            The new weight.\n",
        "\n",
        "        Raises\n",
        "        ------\n",
        "        IndexError\n",
        "            If the face is not found in the die faces.\n",
        "        TypeError\n",
        "            If the new weight is not numeric.\n",
        "        \"\"\"\n",
        "        if face not in self._df.index:\n",
        "            raise IndexError(\"Face not found in die.\")\n",
        "        try:\n",
        "            new_weight = float(new_weight)\n",
        "        except ValueError:\n",
        "            raise TypeError(\"Weight must be numeric.\")\n",
        "        self._df.at[face, 'weight'] = new_weight\n",
        "\n",
        "    def roll(self, n=1):\n",
        "        \"\"\"\n",
        "        Roll the die n times.\n",
        "\n",
        "        Parameters\n",
        "        ----------\n",
        "        n : int, default 1\n",
        "            Number of rolls.\n",
        "\n",
        "        Returns\n",
        "        -------\n",
        "        list\n",
        "            A list of outcomes.\n",
        "        \"\"\"\n",
        "        faces = self._df.index.values\n",
        "        weights = self._df['weight'].values\n",
        "        probabilities = weights / weights.sum()\n",
        "        return list(np.random.choice(faces, size=n, p=probabilities))\n",
        "\n",
        "    def show(self):\n",
        "        \"\"\"\n",
        "        Show the current state of the die's faces and weights.\n",
        "\n",
        "        Returns\n",
        "        -------\n",
        "        pd.DataFrame\n",
        "            A copy of the internal dataframe.\n",
        "        \"\"\"\n",
        "        return self._df.copy()\n",
        "\n",
        "\n",
        "class Game:\n",
        "    \"\"\"\n",
        "    A Game consists of rolling one or more similar dice a number of times.\n",
        "\n",
        "    Methods:\n",
        "    - play(n_rolls): Roll all dice n_rolls times and store the results.\n",
        "    - show(form='wide'): Show the most recent results in wide or narrow form.\n",
        "    \"\"\"\n",
        "\n",
        "    def __init__(self, dice: list):\n",
        "        \"\"\"\n",
        "        Initialize a Game with a list of Die objects.\n",
        "\n",
        "        Parameters\n",
        "        ----------\n",
        "        dice : list of Die\n",
        "            A list containing one or more Die objects.\n",
        "        \"\"\"\n",
        "        self.dice = dice\n",
        "        self._results = None\n",
        "\n",
        "    def play(self, n_rolls: int):\n",
        "        \"\"\"\n",
        "        Play the game by rolling all dice n_rolls times.\n",
        "\n",
        "        Parameters\n",
        "        ----------\n",
        "        n_rolls : int\n",
        "            Number of times to roll all dice.\n",
        "\n",
        "        Stores\n",
        "        ------\n",
        "        self._results : pd.DataFrame\n",
        "            The results of the rolls in wide format.\n",
        "        \"\"\"\n",
        "        all_results = {}\n",
        "        for i, die in enumerate(self.dice):\n",
        "            all_results[i] = die.roll(n_rolls)\n",
        "\n",
        "        self._results = pd.DataFrame(all_results)\n",
        "        self._results.index.name = 'roll_number'\n",
        "\n",
        "\n",
        "    def show(self, form='wide'):\n",
        "        \"\"\"\n",
        "        Show the results of the most recent play.\n",
        "\n",
        "        Parameters\n",
        "        ----------\n",
        "        form : str, default 'wide'\n",
        "            'wide' or 'narrow' form of the dataframe.\n",
        "\n",
        "        Returns\n",
        "        -------\n",
        "        pd.DataFrame\n",
        "            The results dataframe in the specified format.\n",
        "\n",
        "        Raises\n",
        "        ------\n",
        "        ValueError\n",
        "            If form is not 'wide' or 'narrow'.\n",
        "        \"\"\"\n",
        "        if self._results is None:\n",
        "            return None\n",
        "        if form == 'wide':\n",
        "            return self._results.copy()\n",
        "        else:\n",
        "            # narrow form\n",
        "            narrow = self._results.stack()\n",
        "            narrow.index.set_names(['roll_number','die_number'], inplace=True)\n",
        "            return pd.DataFrame(narrow, columns=['outcome'])\n",
        "\n",
        "\n",
        "class Analyzer:\n",
        "    \"\"\"\n",
        "    An Analyzer takes the results of a single Game and computes statistics.\n",
        "\n",
        "    Methods:\n",
        "    - jackpot(): Counts how many rolls resulted in all faces being the same.\n",
        "    - face_counts_per_roll(): Computes face counts for each roll.\n",
        "    - combo(): Computes combinations of faces rolled and their counts.\n",
        "    - permutation(): Computes permutations of faces rolled and their counts.\n",
        "    \"\"\"\n",
        "\n",
        "    def __init__(self, game: Game):\n",
        "        \"\"\"\n",
        "        Initialize the Analyzer with a Game object.\n",
        "\n",
        "        Parameters\n",
        "        ----------\n",
        "        game : Game\n",
        "            The game object whose results are to be analyzed.\n",
        "\n",
        "        Raises\n",
        "        ------\n",
        "        ValueError\n",
        "            If the input is not a Game object.\n",
        "        \"\"\"\n",
        "        if not isinstance(game, Game):\n",
        "            raise ValueError(\"Analyzer requires a Game object.\")\n",
        "        self.game = game\n",
        "        self._df_results = game.show('wide')\n",
        "        self.jackpot_count = None\n",
        "        self.face_counts = None\n",
        "        self.combo_counts = None\n",
        "        self.permutation_counts = None\n",
        "\n",
        "    def jackpot(self):\n",
        "        \"\"\"\n",
        "        Count how many times all dice showed the same face.\n",
        "\n",
        "        Returns\n",
        "        -------\n",
        "        int\n",
        "            The number of jackpots.\n",
        "        \"\"\"\n",
        "        df = self._df_results\n",
        "        self.jackpot_count = df.apply(lambda x: len(set(x)) == 1, axis=1).sum()\n",
        "        return int(self.jackpot_count)\n",
        "\n",
        "    def face_counts_per_roll(self):\n",
        "        \"\"\"\n",
        "        Count the occurrences of each face in each roll.\n",
        "\n",
        "        Returns\n",
        "        -------\n",
        "        pd.DataFrame\n",
        "            Dataframe with roll_number as index, face values as columns,\n",
        "            and counts as values.\n",
        "        \"\"\"\n",
        "        df = self._df_results\n",
        "        unique_faces = pd.unique(df.values.ravel())\n",
        "        counts_per_roll = {}\n",
        "        for idx, row in df.iterrows():\n",
        "            counts = {face: (row == face).sum() for face in unique_faces}\n",
        "            counts_per_roll[idx] = counts\n",
        "        self.face_counts = pd.DataFrame.from_dict(counts_per_roll, orient='index', columns=unique_faces)\n",
        "        return self.face_counts\n",
        "\n",
        "    def combo(self):\n",
        "        \"\"\"\n",
        "        Compute the distinct combinations of faces rolled, ignoring order.\n",
        "\n",
        "        Returns\n",
        "        -------\n",
        "        pd.DataFrame\n",
        "            MultiIndex of unique combinations and their counts.\n",
        "        \"\"\"\n",
        "        df = self._df_results\n",
        "        combo_list = df.apply(lambda x: tuple(sorted(x)), axis=1)\n",
        "        combo_counts = combo_list.value_counts()\n",
        "        self.combo_counts = pd.DataFrame(combo_counts, columns=['count'])\n",
        "        return self.combo_counts\n",
        "\n",
        "    def permutation(self):\n",
        "        \"\"\"\n",
        "        Compute distinct permutations of faces rolled, order-dependent.\n",
        "\n",
        "        Returns\n",
        "        -------\n",
        "        pd.DataFrame\n",
        "            MultiIndex of unique permutations and their counts.\n",
        "        \"\"\"\n",
        "        df = self._df_results\n",
        "        perm_list = df.apply(lambda x: tuple(x), axis=1)\n",
        "        perm_counts = perm_list.value_counts()\n",
        "        self.permutation_counts = pd.DataFrame(perm_counts, columns=['count'])\n",
        "        return self.permutation_counts'''"
      ]
    },
    {
      "cell_type": "markdown",
      "id": "6377727a-8f0a-491e-9f1c-d9dc225edd35",
      "metadata": {
        "id": "6377727a-8f0a-491e-9f1c-d9dc225edd35"
      },
      "source": [
        "## Unitest Module (2)\n",
        "\n",
        "Paste a copy of your test module below.\n",
        "\n",
        "NOTE: Paste as text, not as code. Use triple backticks to wrap your code blocks.\n",
        "\n",
        "- All methods have at least one test method (1).\n",
        "- Each method employs one of Unittest's Assert methods (1)."
      ]
    },
    {
      "cell_type": "code",
      "execution_count": null,
      "id": "14b878d8-258b-4cf2-ad88-b8ee90d43977",
      "metadata": {
        "id": "14b878d8-258b-4cf2-ad88-b8ee90d43977"
      },
      "outputs": [],
      "source": [
        "'''# test_montecarlo.py\n",
        "\n",
        "import unittest\n",
        "import numpy as np\n",
        "from montecarlo import Die, Game, Analyzer\n",
        "import pandas as pd\n",
        "\n",
        "\n",
        "class TestDie(unittest.TestCase):\n",
        "    def setUp(self):\n",
        "        self.faces = np.array([1, 2, 3])\n",
        "        self.die = Die(self.faces)\n",
        "\n",
        "    def test_init(self):\n",
        "        self.assertEqual(len(self.die.show()), 3)\n",
        "\n",
        "    def test_change_weight(self):\n",
        "        self.die.change_weight(2, 2.0)\n",
        "        self.assertEqual(self.die.show().loc[2, 'weight'], 2.0)\n",
        "\n",
        "    def test_roll(self):\n",
        "        result = self.die.roll(5)\n",
        "        self.assertEqual(len(result), 5)\n",
        "\n",
        "    def test_show(self):\n",
        "        df = self.die.show()\n",
        "        self.assertIn('weight', df.columns)\n",
        "\n",
        "\n",
        "class TestGame(unittest.TestCase):\n",
        "    def setUp(self):\n",
        "        faces = np.array([1, 2, 3])\n",
        "        d1 = Die(faces)\n",
        "        d2 = Die(faces)\n",
        "        self.game = Game([d1, d2])\n",
        "\n",
        "    def test_play(self):\n",
        "        self.game.play(10)\n",
        "        self.assertEqual(self.game.show('wide').shape[0], 10)\n",
        "\n",
        "    def test_show_wide(self):\n",
        "        self.game.play(5)\n",
        "        df_wide = self.game.show('wide')\n",
        "        self.assertEqual(df_wide.shape[0], 5)\n",
        "\n",
        "    def test_show_narrow(self):\n",
        "        self.game.play(5)\n",
        "        df_narrow = self.game.show('narrow')\n",
        "        self.assertEqual(df_narrow.index.names, ['roll_number', 'die_number'])\n",
        "\n",
        "\n",
        "class TestAnalyzer(unittest.TestCase):\n",
        "    def setUp(self):\n",
        "        faces = np.array([1, 2, 3])\n",
        "        d1 = Die(faces)\n",
        "        d2 = Die(faces)\n",
        "        g = Game([d1, d2])\n",
        "        g.play(10)\n",
        "        self.analyzer = Analyzer(g)\n",
        "\n",
        "    def test_init(self):\n",
        "        self.assertIsInstance(self.analyzer, Analyzer)\n",
        "\n",
        "    def test_jackpot(self):\n",
        "        # Can't guarantee any jackpot with random data, but test method runs\n",
        "        jp = self.analyzer.jackpot()\n",
        "        self.assertIsInstance(jp, int)\n",
        "\n",
        "    def test_face_counts_per_roll(self):\n",
        "        fc = self.analyzer.face_counts_per_roll()\n",
        "        self.assertIsInstance(fc, pd.DataFrame)\n",
        "\n",
        "    def test_combo(self):\n",
        "        c = self.analyzer.combo()\n",
        "        self.assertIsInstance(c, pd.DataFrame)\n",
        "\n",
        "    def test_permutation(self):\n",
        "        p = self.analyzer.permutation()\n",
        "        self.assertIsInstance(p, pd.DataFrame)\n",
        "\n",
        "\n",
        "if __name__ == '__main__':\n",
        "    unittest.main()'''"
      ]
    },
    {
      "cell_type": "markdown",
      "id": "3e058d03-29bc-408f-b36d-0605b4f4b8c0",
      "metadata": {
        "tags": [],
        "id": "3e058d03-29bc-408f-b36d-0605b4f4b8c0"
      },
      "source": [
        "## Unittest Results (3)\n",
        "\n",
        "Put a copy of the results of running your tests from the command line here.\n",
        "\n",
        "Again, paste as text using triple backticks.\n",
        "\n",
        "- All 12 specified methods return OK (3; .25 each)."
      ]
    },
    {
      "cell_type": "markdown",
      "source": [
        "![Screenshot 2024-12-08 at 10.05.24 PM.png](data:image/png;base64,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)"
      ],
      "metadata": {
        "id": "fXXkLuNwYTf1"
      },
      "id": "fXXkLuNwYTf1"
    },
    {
      "cell_type": "code",
      "source": [
        "'''\n",
        "............\n",
        "----------------------------------------------------------------------\n",
        "Ran 12 tests in 0.018s\n",
        "\n",
        "OK\n",
        "'''"
      ],
      "metadata": {
        "id": "GGmT3b0iYpWO"
      },
      "id": "GGmT3b0iYpWO",
      "execution_count": null,
      "outputs": []
    },
    {
      "cell_type": "raw",
      "id": "54691fd0-836c-43c7-adc9-4a09d8aa9ab2",
      "metadata": {
        "tags": [],
        "id": "54691fd0-836c-43c7-adc9-4a09d8aa9ab2"
      },
      "source": [
        "# A text block with the output of a successful test."
      ]
    },
    {
      "cell_type": "markdown",
      "id": "d9ffe8c5-eb2f-4ad1-af76-a46550e4c7ac",
      "metadata": {
        "id": "d9ffe8c5-eb2f-4ad1-af76-a46550e4c7ac"
      },
      "source": [
        "## Import (1)\n",
        "\n",
        "Import your module here. This import should refer to the code in your package directory.\n",
        "\n",
        "- Module successuflly imported (1)."
      ]
    },
    {
      "cell_type": "code",
      "execution_count": 2,
      "id": "a05dffb3-e6d6-4f78-9df4-5abd0cf74ca9",
      "metadata": {
        "tags": [],
        "id": "a05dffb3-e6d6-4f78-9df4-5abd0cf74ca9"
      },
      "outputs": [],
      "source": [
        "import montecarlo"
      ]
    },
    {
      "cell_type": "markdown",
      "id": "f30c4842-65b1-4556-98b6-3fe1a07e1371",
      "metadata": {
        "id": "f30c4842-65b1-4556-98b6-3fe1a07e1371"
      },
      "source": [
        "## Help Docs (4)\n",
        "\n",
        "Show your docstring documentation by applying `help()` to your imported module.\n",
        "\n",
        "- All methods have a docstring (3; .25 each).\n",
        "- All classes have a docstring (1; .33 each)."
      ]
    },
    {
      "cell_type": "code",
      "execution_count": 3,
      "id": "bf4fbf1f-9885-471c-a0a6-e9ca90e160de",
      "metadata": {
        "tags": [],
        "colab": {
          "base_uri": "https://localhost:8080/"
        },
        "id": "bf4fbf1f-9885-471c-a0a6-e9ca90e160de",
        "outputId": "196b95dc-53e8-4125-94e2-aa48af33ef18"
      },
      "outputs": [
        {
          "output_type": "stream",
          "name": "stdout",
          "text": [
            "Help on module montecarlo:\n",
            "\n",
            "NAME\n",
            "    montecarlo - # montecarlo.py\n",
            "\n",
            "CLASSES\n",
            "    builtins.object\n",
            "        Analyzer\n",
            "        Die\n",
            "        Game\n",
            "    \n",
            "    class Analyzer(builtins.object)\n",
            "     |  Analyzer(game: montecarlo.Game)\n",
            "     |  \n",
            "     |  An Analyzer takes the results of a single Game and computes statistics.\n",
            "     |  \n",
            "     |  Methods:\n",
            "     |  - jackpot(): Counts how many rolls resulted in all faces being the same.\n",
            "     |  - face_counts_per_roll(): Computes face counts for each roll.\n",
            "     |  - combo(): Computes combinations of faces rolled and their counts.\n",
            "     |  - permutation(): Computes permutations of faces rolled and their counts.\n",
            "     |  \n",
            "     |  Methods defined here:\n",
            "     |  \n",
            "     |  __init__(self, game: montecarlo.Game)\n",
            "     |      Initialize the Analyzer with a Game object.\n",
            "     |      \n",
            "     |      Parameters\n",
            "     |      ----------\n",
            "     |      game : Game\n",
            "     |          The game object whose results are to be analyzed.\n",
            "     |      \n",
            "     |      Raises\n",
            "     |      ------\n",
            "     |      ValueError\n",
            "     |          If the input is not a Game object.\n",
            "     |  \n",
            "     |  combo(self)\n",
            "     |      Compute the distinct combinations of faces rolled, ignoring order.\n",
            "     |      \n",
            "     |      Returns\n",
            "     |      -------\n",
            "     |      pd.DataFrame\n",
            "     |          MultiIndex of unique combinations and their counts.\n",
            "     |  \n",
            "     |  face_counts_per_roll(self)\n",
            "     |      Count the occurrences of each face in each roll.\n",
            "     |      \n",
            "     |      Returns\n",
            "     |      -------\n",
            "     |      pd.DataFrame\n",
            "     |          Dataframe with roll_number as index, face values as columns,\n",
            "     |          and counts as values.\n",
            "     |  \n",
            "     |  jackpot(self)\n",
            "     |      Count how many times all dice showed the same face.\n",
            "     |      \n",
            "     |      Returns\n",
            "     |      -------\n",
            "     |      int\n",
            "     |          The number of jackpots.\n",
            "     |  \n",
            "     |  permutation(self)\n",
            "     |      Compute distinct permutations of faces rolled, order-dependent.\n",
            "     |      \n",
            "     |      Returns\n",
            "     |      -------\n",
            "     |      pd.DataFrame\n",
            "     |          MultiIndex of unique permutations and their counts.\n",
            "     |  \n",
            "     |  ----------------------------------------------------------------------\n",
            "     |  Data descriptors defined here:\n",
            "     |  \n",
            "     |  __dict__\n",
            "     |      dictionary for instance variables (if defined)\n",
            "     |  \n",
            "     |  __weakref__\n",
            "     |      list of weak references to the object (if defined)\n",
            "    \n",
            "    class Die(builtins.object)\n",
            "     |  Die(faces: numpy.ndarray)\n",
            "     |  \n",
            "     |  A Die has N sides/faces and associated weights.\n",
            "     |  \n",
            "     |  Methods:\n",
            "     |  - change_weight(face, new_weight): Change the weight of a single face.\n",
            "     |  - roll(n=1): Roll the die n times and return results as a list.\n",
            "     |  - show(): Return the internal dataframe of faces and weights.\n",
            "     |  \n",
            "     |  Methods defined here:\n",
            "     |  \n",
            "     |  __init__(self, faces: numpy.ndarray)\n",
            "     |      Initialize the Die object with an array of faces.\n",
            "     |      \n",
            "     |      Parameters\n",
            "     |      ----------\n",
            "     |      faces : np.ndarray\n",
            "     |          An array of distinct faces (strings or numbers).\n",
            "     |      \n",
            "     |      Raises\n",
            "     |      ------\n",
            "     |      TypeError\n",
            "     |          If faces is not a NumPy array.\n",
            "     |      ValueError\n",
            "     |          If faces are not distinct.\n",
            "     |  \n",
            "     |  change_weight(self, face, new_weight)\n",
            "     |      Change the weight of a single side of the die.\n",
            "     |      \n",
            "     |      Parameters\n",
            "     |      ----------\n",
            "     |      face : str or int\n",
            "     |          The face whose weight is to be changed.\n",
            "     |      new_weight : float or int\n",
            "     |          The new weight.\n",
            "     |      \n",
            "     |      Raises\n",
            "     |      ------\n",
            "     |      IndexError\n",
            "     |          If the face is not found in the die faces.\n",
            "     |      TypeError\n",
            "     |          If the new weight is not numeric.\n",
            "     |  \n",
            "     |  roll(self, n=1)\n",
            "     |      Roll the die n times.\n",
            "     |      \n",
            "     |      Parameters\n",
            "     |      ----------\n",
            "     |      n : int, default 1\n",
            "     |          Number of rolls.\n",
            "     |      \n",
            "     |      Returns\n",
            "     |      -------\n",
            "     |      list\n",
            "     |          A list of outcomes.\n",
            "     |  \n",
            "     |  show(self)\n",
            "     |      Show the current state of the die's faces and weights.\n",
            "     |      \n",
            "     |      Returns\n",
            "     |      -------\n",
            "     |      pd.DataFrame\n",
            "     |          A copy of the internal dataframe.\n",
            "     |  \n",
            "     |  ----------------------------------------------------------------------\n",
            "     |  Data descriptors defined here:\n",
            "     |  \n",
            "     |  __dict__\n",
            "     |      dictionary for instance variables (if defined)\n",
            "     |  \n",
            "     |  __weakref__\n",
            "     |      list of weak references to the object (if defined)\n",
            "    \n",
            "    class Game(builtins.object)\n",
            "     |  Game(dice: list)\n",
            "     |  \n",
            "     |  A Game consists of rolling one or more similar dice a number of times.\n",
            "     |  \n",
            "     |  Methods:\n",
            "     |  - play(n_rolls): Roll all dice n_rolls times and store the results.\n",
            "     |  - show(form='wide'): Show the most recent results in wide or narrow form.\n",
            "     |  \n",
            "     |  Methods defined here:\n",
            "     |  \n",
            "     |  __init__(self, dice: list)\n",
            "     |      Initialize a Game with a list of Die objects.\n",
            "     |      \n",
            "     |      Parameters\n",
            "     |      ----------\n",
            "     |      dice : list of Die\n",
            "     |          A list containing one or more Die objects.\n",
            "     |  \n",
            "     |  play(self, n_rolls: int)\n",
            "     |      Play the game by rolling all dice n_rolls times.\n",
            "     |      \n",
            "     |      Parameters\n",
            "     |      ----------\n",
            "     |      n_rolls : int\n",
            "     |          Number of times to roll all dice.\n",
            "     |      \n",
            "     |      Stores\n",
            "     |      ------\n",
            "     |      self._results : pd.DataFrame\n",
            "     |          The results of the rolls in wide format.\n",
            "     |  \n",
            "     |  show(self, form='wide')\n",
            "     |      Show the results of the most recent play.\n",
            "     |      \n",
            "     |      Parameters\n",
            "     |      ----------\n",
            "     |      form : str, default 'wide'\n",
            "     |          'wide' or 'narrow' form of the dataframe.\n",
            "     |      \n",
            "     |      Returns\n",
            "     |      -------\n",
            "     |      pd.DataFrame\n",
            "     |          The results dataframe in the specified format.\n",
            "     |      \n",
            "     |      Raises\n",
            "     |      ------\n",
            "     |      ValueError\n",
            "     |          If form is not 'wide' or 'narrow'.\n",
            "     |  \n",
            "     |  ----------------------------------------------------------------------\n",
            "     |  Data descriptors defined here:\n",
            "     |  \n",
            "     |  __dict__\n",
            "     |      dictionary for instance variables (if defined)\n",
            "     |  \n",
            "     |  __weakref__\n",
            "     |      list of weak references to the object (if defined)\n",
            "\n",
            "FILE\n",
            "    /content/montecarlo.py\n",
            "\n",
            "\n"
          ]
        }
      ],
      "source": [
        "help(montecarlo)"
      ]
    },
    {
      "cell_type": "markdown",
      "id": "a9defa84-b395-4966-bd1c-5c6c2bb7ed68",
      "metadata": {
        "id": "a9defa84-b395-4966-bd1c-5c6c2bb7ed68"
      },
      "source": [
        "## `README.md` File (3)\n",
        "\n",
        "Provide link to the README.md file of your project's repo.\n",
        "\n",
        "- Metadata section or info present (1).\n",
        "- Synopsis section showing how each class is called (1). (All must be included.)\n",
        "- API section listing all classes and methods (1). (All must be included.)"
      ]
    },
    {
      "cell_type": "markdown",
      "id": "ee090b33-d593-48a0-bf35-e739cea0942c",
      "metadata": {
        "id": "ee090b33-d593-48a0-bf35-e739cea0942c"
      },
      "source": [
        "URL: https://github.com/ars4eh/montecarlo/blob/7bf92605160838d830b245717311e06cc8545a8d/README.md"
      ]
    },
    {
      "cell_type": "markdown",
      "id": "108604c8-8827-42ef-ab59-6b25428fc0ca",
      "metadata": {
        "id": "108604c8-8827-42ef-ab59-6b25428fc0ca"
      },
      "source": [
        "## Successful installation (2)\n",
        "\n",
        "Put a screenshot or paste a copy of a terminal session where you successfully install your module with pip.\n",
        "\n",
        "If pasting text, use a preformatted text block to show the results.\n",
        "\n",
        "- Installed with `pip` (1).\n",
        "- Successfully installed message appears (1)."
      ]
    },
    {
      "cell_type": "raw",
      "id": "1278db6a-aa53-4e5c-a749-93a87ab239e0",
      "metadata": {
        "id": "1278db6a-aa53-4e5c-a749-93a87ab239e0"
      },
      "source": [
        "![Screenshot 2024-12-08 at 10.50.13 PM.png](data:image/png;base64,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)"
      ]
    },
    {
      "cell_type": "markdown",
      "id": "7c44695d-d1b3-4edf-9f94-e64d7446f199",
      "metadata": {
        "id": "7c44695d-d1b3-4edf-9f94-e64d7446f199"
      },
      "source": [
        "# Scenarios\n",
        "\n",
        "Use code blocks to perform the tasks for each scenario.\n",
        "\n",
        "Be sure the outputs are visible before submitting."
      ]
    },
    {
      "cell_type": "markdown",
      "id": "e2479eae-6fc9-44cd-b8d7-9b22cb501f2a",
      "metadata": {
        "jp-MarkdownHeadingCollapsed": true,
        "tags": [],
        "id": "e2479eae-6fc9-44cd-b8d7-9b22cb501f2a"
      },
      "source": [
        "## Scenario 1: A 2-headed Coin (9)\n",
        "\n",
        "Task 1. Create a fair coin (with faces $H$ and $T$) and one unfair coin in which one of the faces has a weight of $5$ and the others $1$.\n",
        "\n",
        "- Fair coin created (1).\n",
        "- Unfair coin created with weight as specified (1)."
      ]
    },
    {
      "cell_type": "code",
      "execution_count": 4,
      "id": "55ce498e-c75f-4425-9e3e-b635bd6cd9e1",
      "metadata": {
        "id": "55ce498e-c75f-4425-9e3e-b635bd6cd9e1"
      },
      "outputs": [],
      "source": [
        "import numpy as np\n",
        "from montecarlo import Die, Game, Analyzer\n",
        "\n",
        "# Fair coin\n",
        "faces_coin = np.array(['H','T'])\n",
        "fair_coin = Die(faces_coin)\n",
        "\n",
        "# Unfair coin (let's say 'H' has weight 5)\n",
        "unfair_coin = Die(faces_coin)\n",
        "unfair_coin.change_weight('H',5)"
      ]
    },
    {
      "cell_type": "markdown",
      "id": "02b272ab-99da-4b6e-ac2a-555b73e09c07",
      "metadata": {
        "id": "02b272ab-99da-4b6e-ac2a-555b73e09c07"
      },
      "source": [
        "Task 2. Play a game of $1000$ flips with two fair dice.\n",
        "\n",
        "- Play method called correclty and without error (1)."
      ]
    },
    {
      "cell_type": "code",
      "execution_count": 5,
      "id": "65c92601-d32d-4326-b215-74953aee27f2",
      "metadata": {
        "colab": {
          "base_uri": "https://localhost:8080/",
          "height": 238
        },
        "id": "65c92601-d32d-4326-b215-74953aee27f2",
        "outputId": "6234f14f-ce93-43af-edc9-ed20a6202c09"
      },
      "outputs": [
        {
          "output_type": "execute_result",
          "data": {
            "text/plain": [
              "             0  1\n",
              "roll_number      \n",
              "0            T  T\n",
              "1            T  H\n",
              "2            H  H\n",
              "3            H  T\n",
              "4            T  H"
            ],
            "text/html": [
              "\n",
              "  <div id=\"df-078b5e1c-fd5e-4f98-b469-1b4d6ac91296\" class=\"colab-df-container\">\n",
              "    <div>\n",
              "<style scoped>\n",
              "    .dataframe tbody tr th:only-of-type {\n",
              "        vertical-align: middle;\n",
              "    }\n",
              "\n",
              "    .dataframe tbody tr th {\n",
              "        vertical-align: top;\n",
              "    }\n",
              "\n",
              "    .dataframe thead th {\n",
              "        text-align: right;\n",
              "    }\n",
              "</style>\n",
              "<table border=\"1\" class=\"dataframe\">\n",
              "  <thead>\n",
              "    <tr style=\"text-align: right;\">\n",
              "      <th></th>\n",
              "      <th>0</th>\n",
              "      <th>1</th>\n",
              "    </tr>\n",
              "    <tr>\n",
              "      <th>roll_number</th>\n",
              "      <th></th>\n",
              "      <th></th>\n",
              "    </tr>\n",
              "  </thead>\n",
              "  <tbody>\n",
              "    <tr>\n",
              "      <th>0</th>\n",
              "      <td>T</td>\n",
              "      <td>T</td>\n",
              "    </tr>\n",
              "    <tr>\n",
              "      <th>1</th>\n",
              "      <td>T</td>\n",
              "      <td>H</td>\n",
              "    </tr>\n",
              "    <tr>\n",
              "      <th>2</th>\n",
              "      <td>H</td>\n",
              "      <td>H</td>\n",
              "    </tr>\n",
              "    <tr>\n",
              "      <th>3</th>\n",
              "      <td>H</td>\n",
              "      <td>T</td>\n",
              "    </tr>\n",
              "    <tr>\n",
              "      <th>4</th>\n",
              "      <td>T</td>\n",
              "      <td>H</td>\n",
              "    </tr>\n",
              "  </tbody>\n",
              "</table>\n",
              "</div>\n",
              "    <div class=\"colab-df-buttons\">\n",
              "\n",
              "  <div class=\"colab-df-container\">\n",
              "    <button class=\"colab-df-convert\" onclick=\"convertToInteractive('df-078b5e1c-fd5e-4f98-b469-1b4d6ac91296')\"\n",
              "            title=\"Convert this dataframe to an interactive table.\"\n",
              "            style=\"display:none;\">\n",
              "\n",
              "  <svg xmlns=\"http://www.w3.org/2000/svg\" height=\"24px\" viewBox=\"0 -960 960 960\">\n",
              "    <path d=\"M120-120v-720h720v720H120Zm60-500h600v-160H180v160Zm220 220h160v-160H400v160Zm0 220h160v-160H400v160ZM180-400h160v-160H180v160Zm440 0h160v-160H620v160ZM180-180h160v-160H180v160Zm440 0h160v-160H620v160Z\"/>\n",
              "  </svg>\n",
              "    </button>\n",
              "\n",
              "  <style>\n",
              "    .colab-df-container {\n",
              "      display:flex;\n",
              "      gap: 12px;\n",
              "    }\n",
              "\n",
              "    .colab-df-convert {\n",
              "      background-color: #E8F0FE;\n",
              "      border: none;\n",
              "      border-radius: 50%;\n",
              "      cursor: pointer;\n",
              "      display: none;\n",
              "      fill: #1967D2;\n",
              "      height: 32px;\n",
              "      padding: 0 0 0 0;\n",
              "      width: 32px;\n",
              "    }\n",
              "\n",
              "    .colab-df-convert:hover {\n",
              "      background-color: #E2EBFA;\n",
              "      box-shadow: 0px 1px 2px rgba(60, 64, 67, 0.3), 0px 1px 3px 1px rgba(60, 64, 67, 0.15);\n",
              "      fill: #174EA6;\n",
              "    }\n",
              "\n",
              "    .colab-df-buttons div {\n",
              "      margin-bottom: 4px;\n",
              "    }\n",
              "\n",
              "    [theme=dark] .colab-df-convert {\n",
              "      background-color: #3B4455;\n",
              "      fill: #D2E3FC;\n",
              "    }\n",
              "\n",
              "    [theme=dark] .colab-df-convert:hover {\n",
              "      background-color: #434B5C;\n",
              "      box-shadow: 0px 1px 3px 1px rgba(0, 0, 0, 0.15);\n",
              "      filter: drop-shadow(0px 1px 2px rgba(0, 0, 0, 0.3));\n",
              "      fill: #FFFFFF;\n",
              "    }\n",
              "  </style>\n",
              "\n",
              "    <script>\n",
              "      const buttonEl =\n",
              "        document.querySelector('#df-078b5e1c-fd5e-4f98-b469-1b4d6ac91296 button.colab-df-convert');\n",
              "      buttonEl.style.display =\n",
              "        google.colab.kernel.accessAllowed ? 'block' : 'none';\n",
              "\n",
              "      async function convertToInteractive(key) {\n",
              "        const element = document.querySelector('#df-078b5e1c-fd5e-4f98-b469-1b4d6ac91296');\n",
              "        const dataTable =\n",
              "          await google.colab.kernel.invokeFunction('convertToInteractive',\n",
              "                                                    [key], {});\n",
              "        if (!dataTable) return;\n",
              "\n",
              "        const docLinkHtml = 'Like what you see? Visit the ' +\n",
              "          '<a target=\"_blank\" href=https://colab.research.google.com/notebooks/data_table.ipynb>data table notebook</a>'\n",
              "          + ' to learn more about interactive tables.';\n",
              "        element.innerHTML = '';\n",
              "        dataTable['output_type'] = 'display_data';\n",
              "        await google.colab.output.renderOutput(dataTable, element);\n",
              "        const docLink = document.createElement('div');\n",
              "        docLink.innerHTML = docLinkHtml;\n",
              "        element.appendChild(docLink);\n",
              "      }\n",
              "    </script>\n",
              "  </div>\n",
              "\n",
              "\n",
              "<div id=\"df-ae6581cb-5ea7-4f16-9e5d-5bb314e74443\">\n",
              "  <button class=\"colab-df-quickchart\" onclick=\"quickchart('df-ae6581cb-5ea7-4f16-9e5d-5bb314e74443')\"\n",
              "            title=\"Suggest charts\"\n",
              "            style=\"display:none;\">\n",
              "\n",
              "<svg xmlns=\"http://www.w3.org/2000/svg\" height=\"24px\"viewBox=\"0 0 24 24\"\n",
              "     width=\"24px\">\n",
              "    <g>\n",
              "        <path d=\"M19 3H5c-1.1 0-2 .9-2 2v14c0 1.1.9 2 2 2h14c1.1 0 2-.9 2-2V5c0-1.1-.9-2-2-2zM9 17H7v-7h2v7zm4 0h-2V7h2v10zm4 0h-2v-4h2v4z\"/>\n",
              "    </g>\n",
              "</svg>\n",
              "  </button>\n",
              "\n",
              "<style>\n",
              "  .colab-df-quickchart {\n",
              "      --bg-color: #E8F0FE;\n",
              "      --fill-color: #1967D2;\n",
              "      --hover-bg-color: #E2EBFA;\n",
              "      --hover-fill-color: #174EA6;\n",
              "      --disabled-fill-color: #AAA;\n",
              "      --disabled-bg-color: #DDD;\n",
              "  }\n",
              "\n",
              "  [theme=dark] .colab-df-quickchart {\n",
              "      --bg-color: #3B4455;\n",
              "      --fill-color: #D2E3FC;\n",
              "      --hover-bg-color: #434B5C;\n",
              "      --hover-fill-color: #FFFFFF;\n",
              "      --disabled-bg-color: #3B4455;\n",
              "      --disabled-fill-color: #666;\n",
              "  }\n",
              "\n",
              "  .colab-df-quickchart {\n",
              "    background-color: var(--bg-color);\n",
              "    border: none;\n",
              "    border-radius: 50%;\n",
              "    cursor: pointer;\n",
              "    display: none;\n",
              "    fill: var(--fill-color);\n",
              "    height: 32px;\n",
              "    padding: 0;\n",
              "    width: 32px;\n",
              "  }\n",
              "\n",
              "  .colab-df-quickchart:hover {\n",
              "    background-color: var(--hover-bg-color);\n",
              "    box-shadow: 0 1px 2px rgba(60, 64, 67, 0.3), 0 1px 3px 1px rgba(60, 64, 67, 0.15);\n",
              "    fill: var(--button-hover-fill-color);\n",
              "  }\n",
              "\n",
              "  .colab-df-quickchart-complete:disabled,\n",
              "  .colab-df-quickchart-complete:disabled:hover {\n",
              "    background-color: var(--disabled-bg-color);\n",
              "    fill: var(--disabled-fill-color);\n",
              "    box-shadow: none;\n",
              "  }\n",
              "\n",
              "  .colab-df-spinner {\n",
              "    border: 2px solid var(--fill-color);\n",
              "    border-color: transparent;\n",
              "    border-bottom-color: var(--fill-color);\n",
              "    animation:\n",
              "      spin 1s steps(1) infinite;\n",
              "  }\n",
              "\n",
              "  @keyframes spin {\n",
              "    0% {\n",
              "      border-color: transparent;\n",
              "      border-bottom-color: var(--fill-color);\n",
              "      border-left-color: var(--fill-color);\n",
              "    }\n",
              "    20% {\n",
              "      border-color: transparent;\n",
              "      border-left-color: var(--fill-color);\n",
              "      border-top-color: var(--fill-color);\n",
              "    }\n",
              "    30% {\n",
              "      border-color: transparent;\n",
              "      border-left-color: var(--fill-color);\n",
              "      border-top-color: var(--fill-color);\n",
              "      border-right-color: var(--fill-color);\n",
              "    }\n",
              "    40% {\n",
              "      border-color: transparent;\n",
              "      border-right-color: var(--fill-color);\n",
              "      border-top-color: var(--fill-color);\n",
              "    }\n",
              "    60% {\n",
              "      border-color: transparent;\n",
              "      border-right-color: var(--fill-color);\n",
              "    }\n",
              "    80% {\n",
              "      border-color: transparent;\n",
              "      border-right-color: var(--fill-color);\n",
              "      border-bottom-color: var(--fill-color);\n",
              "    }\n",
              "    90% {\n",
              "      border-color: transparent;\n",
              "      border-bottom-color: var(--fill-color);\n",
              "    }\n",
              "  }\n",
              "</style>\n",
              "\n",
              "  <script>\n",
              "    async function quickchart(key) {\n",
              "      const quickchartButtonEl =\n",
              "        document.querySelector('#' + key + ' button');\n",
              "      quickchartButtonEl.disabled = true;  // To prevent multiple clicks.\n",
              "      quickchartButtonEl.classList.add('colab-df-spinner');\n",
              "      try {\n",
              "        const charts = await google.colab.kernel.invokeFunction(\n",
              "            'suggestCharts', [key], {});\n",
              "      } catch (error) {\n",
              "        console.error('Error during call to suggestCharts:', error);\n",
              "      }\n",
              "      quickchartButtonEl.classList.remove('colab-df-spinner');\n",
              "      quickchartButtonEl.classList.add('colab-df-quickchart-complete');\n",
              "    }\n",
              "    (() => {\n",
              "      let quickchartButtonEl =\n",
              "        document.querySelector('#df-ae6581cb-5ea7-4f16-9e5d-5bb314e74443 button');\n",
              "      quickchartButtonEl.style.display =\n",
              "        google.colab.kernel.accessAllowed ? 'block' : 'none';\n",
              "    })();\n",
              "  </script>\n",
              "</div>\n",
              "\n",
              "    </div>\n",
              "  </div>\n"
            ],
            "application/vnd.google.colaboratory.intrinsic+json": {
              "type": "dataframe",
              "variable_name": "results_fair",
              "summary": "{\n  \"name\": \"results_fair\",\n  \"rows\": 1000,\n  \"fields\": [\n    {\n      \"column\": \"roll_number\",\n      \"properties\": {\n        \"dtype\": \"number\",\n        \"std\": 288,\n        \"min\": 0,\n        \"max\": 999,\n        \"num_unique_values\": 1000,\n        \"samples\": [\n          521,\n          737,\n          740\n        ],\n        \"semantic_type\": \"\",\n        \"description\": \"\"\n      }\n    },\n    {\n      \"column\": 0,\n      \"properties\": {\n        \"dtype\": \"category\",\n        \"num_unique_values\": 2,\n        \"samples\": [\n          \"H\",\n          \"T\"\n        ],\n        \"semantic_type\": \"\",\n        \"description\": \"\"\n      }\n    },\n    {\n      \"column\": 1,\n      \"properties\": {\n        \"dtype\": \"category\",\n        \"num_unique_values\": 2,\n        \"samples\": [\n          \"H\",\n          \"T\"\n        ],\n        \"semantic_type\": \"\",\n        \"description\": \"\"\n      }\n    }\n  ]\n}"
            }
          },
          "metadata": {},
          "execution_count": 5
        }
      ],
      "source": [
        "game_fair = Game([fair_coin, fair_coin])\n",
        "game_fair.play(1000)\n",
        "results_fair = game_fair.show('wide')\n",
        "results_fair.head()"
      ]
    },
    {
      "cell_type": "markdown",
      "id": "7d9c3dc8-22c1-4cae-81fb-d68d774a05d1",
      "metadata": {
        "id": "7d9c3dc8-22c1-4cae-81fb-d68d774a05d1"
      },
      "source": [
        "Task 3. Play another game (using a new Game object) of $1000$ flips, this time using two unfair dice and one fair die. For the second unfair die, you can use the same die object twice in the list of dice you pass to the Game object.\n",
        "\n",
        "- New game object created (1).\n",
        "- Play method called correclty and without error (1)."
      ]
    },
    {
      "cell_type": "code",
      "execution_count": 6,
      "id": "d4098bed-1eb2-4084-8d5e-9fda07c3be43",
      "metadata": {
        "colab": {
          "base_uri": "https://localhost:8080/",
          "height": 238
        },
        "id": "d4098bed-1eb2-4084-8d5e-9fda07c3be43",
        "outputId": "5bdebb43-20d2-4de5-8328-cb91b59f6933"
      },
      "outputs": [
        {
          "output_type": "execute_result",
          "data": {
            "text/plain": [
              "             0  1  2\n",
              "roll_number         \n",
              "0            T  H  H\n",
              "1            T  H  T\n",
              "2            T  T  T\n",
              "3            H  H  T\n",
              "4            T  H  T"
            ],
            "text/html": [
              "\n",
              "  <div id=\"df-20105fc6-a860-429d-9a86-03b5d676c369\" class=\"colab-df-container\">\n",
              "    <div>\n",
              "<style scoped>\n",
              "    .dataframe tbody tr th:only-of-type {\n",
              "        vertical-align: middle;\n",
              "    }\n",
              "\n",
              "    .dataframe tbody tr th {\n",
              "        vertical-align: top;\n",
              "    }\n",
              "\n",
              "    .dataframe thead th {\n",
              "        text-align: right;\n",
              "    }\n",
              "</style>\n",
              "<table border=\"1\" class=\"dataframe\">\n",
              "  <thead>\n",
              "    <tr style=\"text-align: right;\">\n",
              "      <th></th>\n",
              "      <th>0</th>\n",
              "      <th>1</th>\n",
              "      <th>2</th>\n",
              "    </tr>\n",
              "    <tr>\n",
              "      <th>roll_number</th>\n",
              "      <th></th>\n",
              "      <th></th>\n",
              "      <th></th>\n",
              "    </tr>\n",
              "  </thead>\n",
              "  <tbody>\n",
              "    <tr>\n",
              "      <th>0</th>\n",
              "      <td>T</td>\n",
              "      <td>H</td>\n",
              "      <td>H</td>\n",
              "    </tr>\n",
              "    <tr>\n",
              "      <th>1</th>\n",
              "      <td>T</td>\n",
              "      <td>H</td>\n",
              "      <td>T</td>\n",
              "    </tr>\n",
              "    <tr>\n",
              "      <th>2</th>\n",
              "      <td>T</td>\n",
              "      <td>T</td>\n",
              "      <td>T</td>\n",
              "    </tr>\n",
              "    <tr>\n",
              "      <th>3</th>\n",
              "      <td>H</td>\n",
              "      <td>H</td>\n",
              "      <td>T</td>\n",
              "    </tr>\n",
              "    <tr>\n",
              "      <th>4</th>\n",
              "      <td>T</td>\n",
              "      <td>H</td>\n",
              "      <td>T</td>\n",
              "    </tr>\n",
              "  </tbody>\n",
              "</table>\n",
              "</div>\n",
              "    <div class=\"colab-df-buttons\">\n",
              "\n",
              "  <div class=\"colab-df-container\">\n",
              "    <button class=\"colab-df-convert\" onclick=\"convertToInteractive('df-20105fc6-a860-429d-9a86-03b5d676c369')\"\n",
              "            title=\"Convert this dataframe to an interactive table.\"\n",
              "            style=\"display:none;\">\n",
              "\n",
              "  <svg xmlns=\"http://www.w3.org/2000/svg\" height=\"24px\" viewBox=\"0 -960 960 960\">\n",
              "    <path d=\"M120-120v-720h720v720H120Zm60-500h600v-160H180v160Zm220 220h160v-160H400v160Zm0 220h160v-160H400v160ZM180-400h160v-160H180v160Zm440 0h160v-160H620v160ZM180-180h160v-160H180v160Zm440 0h160v-160H620v160Z\"/>\n",
              "  </svg>\n",
              "    </button>\n",
              "\n",
              "  <style>\n",
              "    .colab-df-container {\n",
              "      display:flex;\n",
              "      gap: 12px;\n",
              "    }\n",
              "\n",
              "    .colab-df-convert {\n",
              "      background-color: #E8F0FE;\n",
              "      border: none;\n",
              "      border-radius: 50%;\n",
              "      cursor: pointer;\n",
              "      display: none;\n",
              "      fill: #1967D2;\n",
              "      height: 32px;\n",
              "      padding: 0 0 0 0;\n",
              "      width: 32px;\n",
              "    }\n",
              "\n",
              "    .colab-df-convert:hover {\n",
              "      background-color: #E2EBFA;\n",
              "      box-shadow: 0px 1px 2px rgba(60, 64, 67, 0.3), 0px 1px 3px 1px rgba(60, 64, 67, 0.15);\n",
              "      fill: #174EA6;\n",
              "    }\n",
              "\n",
              "    .colab-df-buttons div {\n",
              "      margin-bottom: 4px;\n",
              "    }\n",
              "\n",
              "    [theme=dark] .colab-df-convert {\n",
              "      background-color: #3B4455;\n",
              "      fill: #D2E3FC;\n",
              "    }\n",
              "\n",
              "    [theme=dark] .colab-df-convert:hover {\n",
              "      background-color: #434B5C;\n",
              "      box-shadow: 0px 1px 3px 1px rgba(0, 0, 0, 0.15);\n",
              "      filter: drop-shadow(0px 1px 2px rgba(0, 0, 0, 0.3));\n",
              "      fill: #FFFFFF;\n",
              "    }\n",
              "  </style>\n",
              "\n",
              "    <script>\n",
              "      const buttonEl =\n",
              "        document.querySelector('#df-20105fc6-a860-429d-9a86-03b5d676c369 button.colab-df-convert');\n",
              "      buttonEl.style.display =\n",
              "        google.colab.kernel.accessAllowed ? 'block' : 'none';\n",
              "\n",
              "      async function convertToInteractive(key) {\n",
              "        const element = document.querySelector('#df-20105fc6-a860-429d-9a86-03b5d676c369');\n",
              "        const dataTable =\n",
              "          await google.colab.kernel.invokeFunction('convertToInteractive',\n",
              "                                                    [key], {});\n",
              "        if (!dataTable) return;\n",
              "\n",
              "        const docLinkHtml = 'Like what you see? Visit the ' +\n",
              "          '<a target=\"_blank\" href=https://colab.research.google.com/notebooks/data_table.ipynb>data table notebook</a>'\n",
              "          + ' to learn more about interactive tables.';\n",
              "        element.innerHTML = '';\n",
              "        dataTable['output_type'] = 'display_data';\n",
              "        await google.colab.output.renderOutput(dataTable, element);\n",
              "        const docLink = document.createElement('div');\n",
              "        docLink.innerHTML = docLinkHtml;\n",
              "        element.appendChild(docLink);\n",
              "      }\n",
              "    </script>\n",
              "  </div>\n",
              "\n",
              "\n",
              "<div id=\"df-4bc33175-1328-4e1c-a274-6049b6aa5b8e\">\n",
              "  <button class=\"colab-df-quickchart\" onclick=\"quickchart('df-4bc33175-1328-4e1c-a274-6049b6aa5b8e')\"\n",
              "            title=\"Suggest charts\"\n",
              "            style=\"display:none;\">\n",
              "\n",
              "<svg xmlns=\"http://www.w3.org/2000/svg\" height=\"24px\"viewBox=\"0 0 24 24\"\n",
              "     width=\"24px\">\n",
              "    <g>\n",
              "        <path d=\"M19 3H5c-1.1 0-2 .9-2 2v14c0 1.1.9 2 2 2h14c1.1 0 2-.9 2-2V5c0-1.1-.9-2-2-2zM9 17H7v-7h2v7zm4 0h-2V7h2v10zm4 0h-2v-4h2v4z\"/>\n",
              "    </g>\n",
              "</svg>\n",
              "  </button>\n",
              "\n",
              "<style>\n",
              "  .colab-df-quickchart {\n",
              "      --bg-color: #E8F0FE;\n",
              "      --fill-color: #1967D2;\n",
              "      --hover-bg-color: #E2EBFA;\n",
              "      --hover-fill-color: #174EA6;\n",
              "      --disabled-fill-color: #AAA;\n",
              "      --disabled-bg-color: #DDD;\n",
              "  }\n",
              "\n",
              "  [theme=dark] .colab-df-quickchart {\n",
              "      --bg-color: #3B4455;\n",
              "      --fill-color: #D2E3FC;\n",
              "      --hover-bg-color: #434B5C;\n",
              "      --hover-fill-color: #FFFFFF;\n",
              "      --disabled-bg-color: #3B4455;\n",
              "      --disabled-fill-color: #666;\n",
              "  }\n",
              "\n",
              "  .colab-df-quickchart {\n",
              "    background-color: var(--bg-color);\n",
              "    border: none;\n",
              "    border-radius: 50%;\n",
              "    cursor: pointer;\n",
              "    display: none;\n",
              "    fill: var(--fill-color);\n",
              "    height: 32px;\n",
              "    padding: 0;\n",
              "    width: 32px;\n",
              "  }\n",
              "\n",
              "  .colab-df-quickchart:hover {\n",
              "    background-color: var(--hover-bg-color);\n",
              "    box-shadow: 0 1px 2px rgba(60, 64, 67, 0.3), 0 1px 3px 1px rgba(60, 64, 67, 0.15);\n",
              "    fill: var(--button-hover-fill-color);\n",
              "  }\n",
              "\n",
              "  .colab-df-quickchart-complete:disabled,\n",
              "  .colab-df-quickchart-complete:disabled:hover {\n",
              "    background-color: var(--disabled-bg-color);\n",
              "    fill: var(--disabled-fill-color);\n",
              "    box-shadow: none;\n",
              "  }\n",
              "\n",
              "  .colab-df-spinner {\n",
              "    border: 2px solid var(--fill-color);\n",
              "    border-color: transparent;\n",
              "    border-bottom-color: var(--fill-color);\n",
              "    animation:\n",
              "      spin 1s steps(1) infinite;\n",
              "  }\n",
              "\n",
              "  @keyframes spin {\n",
              "    0% {\n",
              "      border-color: transparent;\n",
              "      border-bottom-color: var(--fill-color);\n",
              "      border-left-color: var(--fill-color);\n",
              "    }\n",
              "    20% {\n",
              "      border-color: transparent;\n",
              "      border-left-color: var(--fill-color);\n",
              "      border-top-color: var(--fill-color);\n",
              "    }\n",
              "    30% {\n",
              "      border-color: transparent;\n",
              "      border-left-color: var(--fill-color);\n",
              "      border-top-color: var(--fill-color);\n",
              "      border-right-color: var(--fill-color);\n",
              "    }\n",
              "    40% {\n",
              "      border-color: transparent;\n",
              "      border-right-color: var(--fill-color);\n",
              "      border-top-color: var(--fill-color);\n",
              "    }\n",
              "    60% {\n",
              "      border-color: transparent;\n",
              "      border-right-color: var(--fill-color);\n",
              "    }\n",
              "    80% {\n",
              "      border-color: transparent;\n",
              "      border-right-color: var(--fill-color);\n",
              "      border-bottom-color: var(--fill-color);\n",
              "    }\n",
              "    90% {\n",
              "      border-color: transparent;\n",
              "      border-bottom-color: var(--fill-color);\n",
              "    }\n",
              "  }\n",
              "</style>\n",
              "\n",
              "  <script>\n",
              "    async function quickchart(key) {\n",
              "      const quickchartButtonEl =\n",
              "        document.querySelector('#' + key + ' button');\n",
              "      quickchartButtonEl.disabled = true;  // To prevent multiple clicks.\n",
              "      quickchartButtonEl.classList.add('colab-df-spinner');\n",
              "      try {\n",
              "        const charts = await google.colab.kernel.invokeFunction(\n",
              "            'suggestCharts', [key], {});\n",
              "      } catch (error) {\n",
              "        console.error('Error during call to suggestCharts:', error);\n",
              "      }\n",
              "      quickchartButtonEl.classList.remove('colab-df-spinner');\n",
              "      quickchartButtonEl.classList.add('colab-df-quickchart-complete');\n",
              "    }\n",
              "    (() => {\n",
              "      let quickchartButtonEl =\n",
              "        document.querySelector('#df-4bc33175-1328-4e1c-a274-6049b6aa5b8e button');\n",
              "      quickchartButtonEl.style.display =\n",
              "        google.colab.kernel.accessAllowed ? 'block' : 'none';\n",
              "    })();\n",
              "  </script>\n",
              "</div>\n",
              "\n",
              "    </div>\n",
              "  </div>\n"
            ],
            "application/vnd.google.colaboratory.intrinsic+json": {
              "type": "dataframe",
              "variable_name": "results_unfair",
              "summary": "{\n  \"name\": \"results_unfair\",\n  \"rows\": 1000,\n  \"fields\": [\n    {\n      \"column\": \"roll_number\",\n      \"properties\": {\n        \"dtype\": \"number\",\n        \"std\": 288,\n        \"min\": 0,\n        \"max\": 999,\n        \"num_unique_values\": 1000,\n        \"samples\": [\n          521,\n          737,\n          740\n        ],\n        \"semantic_type\": \"\",\n        \"description\": \"\"\n      }\n    },\n    {\n      \"column\": 0,\n      \"properties\": {\n        \"dtype\": \"category\",\n        \"num_unique_values\": 2,\n        \"samples\": [\n          \"H\",\n          \"T\"\n        ],\n        \"semantic_type\": \"\",\n        \"description\": \"\"\n      }\n    },\n    {\n      \"column\": 1,\n      \"properties\": {\n        \"dtype\": \"category\",\n        \"num_unique_values\": 2,\n        \"samples\": [\n          \"T\",\n          \"H\"\n        ],\n        \"semantic_type\": \"\",\n        \"description\": \"\"\n      }\n    },\n    {\n      \"column\": 2,\n      \"properties\": {\n        \"dtype\": \"category\",\n        \"num_unique_values\": 2,\n        \"samples\": [\n          \"T\",\n          \"H\"\n        ],\n        \"semantic_type\": \"\",\n        \"description\": \"\"\n      }\n    }\n  ]\n}"
            }
          },
          "metadata": {},
          "execution_count": 6
        }
      ],
      "source": [
        "game_unfair = Game([unfair_coin, unfair_coin, fair_coin])\n",
        "game_unfair.play(1000)\n",
        "results_unfair = game_unfair.show('wide')\n",
        "results_unfair.head()"
      ]
    },
    {
      "cell_type": "markdown",
      "id": "f690ebfc-fe71-4eb2-976d-7ac80ca6c23f",
      "metadata": {
        "id": "f690ebfc-fe71-4eb2-976d-7ac80ca6c23f"
      },
      "source": [
        "Task 4. For each game, use an Analyzer object to determine the raw frequency of jackpots — i.e. getting either all $H$s or all $T$s.\n",
        "\n",
        "- Analyzer objecs instantiated for both games (1).\n",
        "- Raw frequencies reported for both (1)."
      ]
    },
    {
      "cell_type": "code",
      "execution_count": 7,
      "id": "b26b8b7e-3be7-4476-a9a4-37d97536729e",
      "metadata": {
        "colab": {
          "base_uri": "https://localhost:8080/"
        },
        "id": "b26b8b7e-3be7-4476-a9a4-37d97536729e",
        "outputId": "f4292cc8-4d6a-4e67-e523-a41549725c8f"
      },
      "outputs": [
        {
          "output_type": "execute_result",
          "data": {
            "text/plain": [
              "(505, 357)"
            ]
          },
          "metadata": {},
          "execution_count": 7
        }
      ],
      "source": [
        "analyzer_fair = Analyzer(game_fair)\n",
        "analyzer_unfair = Analyzer(game_unfair)\n",
        "\n",
        "fair_jackpots = analyzer_fair.jackpot()\n",
        "unfair_jackpots = analyzer_unfair.jackpot()\n",
        "fair_jackpots, unfair_jackpots"
      ]
    },
    {
      "cell_type": "markdown",
      "id": "b73d233c-445e-40cd-8858-0c5e1f097105",
      "metadata": {
        "id": "b73d233c-445e-40cd-8858-0c5e1f097105"
      },
      "source": [
        "Task 5. For each analyzer, compute relative frequency as the number of jackpots over the total number of rolls.\n",
        "\n",
        "- Both relative frequencies computed (1)."
      ]
    },
    {
      "cell_type": "code",
      "execution_count": 8,
      "id": "9a96b31b-1b9d-496e-be3e-4bf83c45ec3a",
      "metadata": {
        "colab": {
          "base_uri": "https://localhost:8080/"
        },
        "id": "9a96b31b-1b9d-496e-be3e-4bf83c45ec3a",
        "outputId": "4396c236-773f-4bf1-89ba-6fdd9ed3386d"
      },
      "outputs": [
        {
          "output_type": "execute_result",
          "data": {
            "text/plain": [
              "(0.505, 0.357)"
            ]
          },
          "metadata": {},
          "execution_count": 8
        }
      ],
      "source": [
        "rel_fair = fair_jackpots / 1000\n",
        "rel_unfair = unfair_jackpots / 1000\n",
        "rel_fair, rel_unfair"
      ]
    },
    {
      "cell_type": "markdown",
      "id": "a6e1e734-7f5c-4721-8ba4-2f3a424cf984",
      "metadata": {
        "id": "a6e1e734-7f5c-4721-8ba4-2f3a424cf984"
      },
      "source": [
        "Task 6. Show your results, comparing the two relative frequencies, in a simple bar chart.\n",
        "\n",
        "- Bar chart plotted and correct (1)."
      ]
    },
    {
      "cell_type": "code",
      "execution_count": 9,
      "id": "473fa67c-aa53-4aa3-a0b7-e8772b3f6ed3",
      "metadata": {
        "colab": {
          "base_uri": "https://localhost:8080/",
          "height": 452
        },
        "id": "473fa67c-aa53-4aa3-a0b7-e8772b3f6ed3",
        "outputId": "0790b156-787b-49ae-bcd6-25a812d1c122"
      },
      "outputs": [
        {
          "output_type": "display_data",
          "data": {
            "text/plain": [
              "<Figure size 640x480 with 1 Axes>"
            ],
            "image/png": "[encoded data removed]"
          },
          "metadata": {}
        }
      ],
      "source": [
        "import matplotlib.pyplot as plt\n",
        "\n",
        "plt.bar(['Fair','Unfair'], [rel_fair, rel_unfair])\n",
        "plt.ylabel('Relative Frequency of Jackpots')\n",
        "plt.title('Comparison of Jackpot Frequencies')\n",
        "plt.show()"
      ]
    },
    {
      "cell_type": "markdown",
      "id": "725cfa5b-e4b7-47c9-86aa-8d9e1fe6c8c7",
      "metadata": {
        "id": "725cfa5b-e4b7-47c9-86aa-8d9e1fe6c8c7"
      },
      "source": [
        "## Scenario 2: A 6-sided Die (9)\n",
        "\n",
        "Task 1. Create three dice, each with six sides having the faces 1 through 6.\n",
        "\n",
        "- Three die objects created (1)."
      ]
    },
    {
      "cell_type": "code",
      "execution_count": 10,
      "id": "6a8bc611-325a-4e05-88d5-980e0a2cf7c5",
      "metadata": {
        "id": "6a8bc611-325a-4e05-88d5-980e0a2cf7c5"
      },
      "outputs": [],
      "source": [
        "faces_six = np.array([1,2,3,4,5,6])\n",
        "d1 = Die(faces_six)\n",
        "d2 = Die(faces_six)\n",
        "d3 = Die(faces_six)"
      ]
    },
    {
      "cell_type": "markdown",
      "id": "2ed3ad26-fbe9-43bd-9ad7-f683a4191d12",
      "metadata": {
        "id": "2ed3ad26-fbe9-43bd-9ad7-f683a4191d12"
      },
      "source": [
        "Task 2. Convert one of the dice to an unfair one by weighting the face $6$ five times more than the other weights (i.e. it has weight of 5 and the others a weight of 1 each).\n",
        "\n",
        "- Unfair die created with proper call to weight change method (1)."
      ]
    },
    {
      "cell_type": "code",
      "execution_count": 11,
      "id": "e33dd18f-7f90-456d-a680-61c08a328e21",
      "metadata": {
        "id": "e33dd18f-7f90-456d-a680-61c08a328e21"
      },
      "outputs": [],
      "source": [
        "d2.change_weight(6, 5)"
      ]
    },
    {
      "cell_type": "markdown",
      "id": "7f6c062a-4c5b-45b9-96b8-76a0354c7e47",
      "metadata": {
        "id": "7f6c062a-4c5b-45b9-96b8-76a0354c7e47"
      },
      "source": [
        "Task 3. Convert another of the dice to be unfair by weighting the face $1$ five times more than the others.\n",
        "\n",
        "- Unfair die created with proper call to weight change method (1)."
      ]
    },
    {
      "cell_type": "code",
      "execution_count": 12,
      "id": "01133a4e-6b06-4246-8d90-8e6d6995be51",
      "metadata": {
        "id": "01133a4e-6b06-4246-8d90-8e6d6995be51"
      },
      "outputs": [],
      "source": [
        "d3.change_weight(1, 5)"
      ]
    },
    {
      "cell_type": "markdown",
      "id": "f0ed31cb-0a3c-4eb2-b85e-6ed6b2eb6e58",
      "metadata": {
        "id": "f0ed31cb-0a3c-4eb2-b85e-6ed6b2eb6e58"
      },
      "source": [
        "Task 4. Play a game of $10000$ rolls with $5$ fair dice.\n",
        "\n",
        "- Game class properly instantiated (1).\n",
        "- Play method called properly (1)."
      ]
    },
    {
      "cell_type": "code",
      "execution_count": 13,
      "id": "e92395a4-9ed8-4cb0-8c85-38768a784ffc",
      "metadata": {
        "id": "e92395a4-9ed8-4cb0-8c85-38768a784ffc"
      },
      "outputs": [],
      "source": [
        "d_fair_list = [Die(faces_six) for _ in range(5)]\n",
        "game_five_fair = Game(d_fair_list)\n",
        "game_five_fair.play(10000)"
      ]
    },
    {
      "cell_type": "markdown",
      "id": "7814b402-46a4-40e5-8141-20e05c3e646b",
      "metadata": {
        "id": "7814b402-46a4-40e5-8141-20e05c3e646b"
      },
      "source": [
        "Task 5. Play another game of $10000$ rolls, this time with $2$ unfair dice, one as defined in steps #2 and #3 respectively, and $3$ fair dice.\n",
        "\n",
        "- Game class properly instantiated (1).\n",
        "- Play method called properly (1)."
      ]
    },
    {
      "cell_type": "code",
      "execution_count": 14,
      "id": "7cd58fba-b2a5-4d5d-bc6d-2a7a68d18c4f",
      "metadata": {
        "id": "7cd58fba-b2a5-4d5d-bc6d-2a7a68d18c4f"
      },
      "outputs": [],
      "source": [
        "game_mixed = Game([d2, d3, Die(faces_six), Die(faces_six), Die(faces_six)])\n",
        "game_mixed.play(10000)"
      ]
    },
    {
      "cell_type": "markdown",
      "id": "7b6cd372-2bb8-4df8-ade1-8f48bc300955",
      "metadata": {
        "id": "7b6cd372-2bb8-4df8-ade1-8f48bc300955"
      },
      "source": [
        "Task 6. For each game, use an Analyzer object to determine the relative frequency of jackpots and show your results, comparing the two relative frequencies, in a simple bar chart.\n",
        "\n",
        "- Jackpot methods called (1).\n",
        "- Graph produced (1)."
      ]
    },
    {
      "cell_type": "code",
      "execution_count": 15,
      "id": "bbdcf695-8937-406e-9b53-aa0b9ee3c59a",
      "metadata": {
        "colab": {
          "base_uri": "https://localhost:8080/",
          "height": 452
        },
        "id": "bbdcf695-8937-406e-9b53-aa0b9ee3c59a",
        "outputId": "9a6d2bac-ca43-4d3b-874e-04826623c664"
      },
      "outputs": [
        {
          "output_type": "display_data",
          "data": {
            "text/plain": [
              "<Figure size 640x480 with 1 Axes>"
            ],
            "image/png": "[encoded data removed]"
          },
          "metadata": {}
        }
      ],
      "source": [
        "analyzer_five_fair = Analyzer(game_five_fair)\n",
        "analyzer_mixed = Analyzer(game_mixed)\n",
        "\n",
        "jf_five_fair = analyzer_five_fair.jackpot()\n",
        "jf_mixed = analyzer_mixed.jackpot()\n",
        "\n",
        "rel_five_fair = jf_five_fair / 10000\n",
        "rel_mixed = jf_mixed / 10000\n",
        "\n",
        "plt.bar(['5 Fair Dice','2 Unfair + 3 Fair'], [rel_five_fair, rel_mixed])\n",
        "plt.ylabel('Relative Frequency of Jackpots')\n",
        "plt.title('Comparison of Jackpot Frequencies (6-sided)')\n",
        "plt.show()"
      ]
    },
    {
      "cell_type": "markdown",
      "id": "9f04e9be-8fcf-4ea4-a391-6614608285f8",
      "metadata": {
        "id": "9f04e9be-8fcf-4ea4-a391-6614608285f8"
      },
      "source": [
        "## Scenario 3: Letters of the Alphabet (7)\n",
        "\n",
        "Task 1. Create a \"die\" of letters from $A$ to $Z$ with weights based on their frequency of usage as found in the data file `english_letters.txt`. Use the frequencies (i.e. raw counts) as weights.\n",
        "\n",
        "- Die correctly instantiated with source file data (1).\n",
        "- Weights properly applied using weight setting method (1)."
      ]
    },
    {
      "cell_type": "code",
      "execution_count": 17,
      "id": "b0ceb771-3cdf-4d8f-8c2c-020806bbb909",
      "metadata": {
        "id": "b0ceb771-3cdf-4d8f-8c2c-020806bbb909"
      },
      "outputs": [],
      "source": [
        "import string\n",
        "\n",
        "weights_data = {}\n",
        "with open('english_letters.txt','r') as f:\n",
        "    for line in f:\n",
        "        letter, count = line.strip().split()\n",
        "        weights_data[letter] = float(count)\n",
        "\n",
        "letters = np.array(list(string.ascii_uppercase))\n",
        "letter_die = Die(letters)\n",
        "for l in letters:\n",
        "    letter_die.change_weight(l, weights_data[l])"
      ]
    },
    {
      "cell_type": "markdown",
      "id": "88e2e14a-6223-470a-a2c8-bca1120d7a5b",
      "metadata": {
        "id": "88e2e14a-6223-470a-a2c8-bca1120d7a5b"
      },
      "source": [
        "Task 2. Play a game involving $4$ of these dice with $1000$ rolls.\n",
        "\n",
        "- Game play method properly called (1)."
      ]
    },
    {
      "cell_type": "code",
      "execution_count": 18,
      "id": "2ae087cc-936d-4f1e-bddb-a7c179d139e0",
      "metadata": {
        "id": "2ae087cc-936d-4f1e-bddb-a7c179d139e0"
      },
      "outputs": [],
      "source": [
        "game_letters_4 = Game([letter_die, letter_die, letter_die, letter_die])\n",
        "game_letters_4.play(1000)"
      ]
    },
    {
      "cell_type": "markdown",
      "id": "3b9ff800-bf1f-4f66-9d7f-ff57a648e9f0",
      "metadata": {
        "id": "3b9ff800-bf1f-4f66-9d7f-ff57a648e9f0"
      },
      "source": [
        "Task 3. Determine how many permutations in your results are actual English words, based on the vocabulary found in `scrabble_words.txt`.\n",
        "\n",
        "- Use permutation method (1).\n",
        "- Get count as difference between permutations and vocabulary (1)."
      ]
    },
    {
      "cell_type": "code",
      "source": [
        "print(perm_df_4.head())\n",
        "print(perm_df_4.index)\n",
        "print(perm_df_4.columns)"
      ],
      "metadata": {
        "colab": {
          "base_uri": "https://localhost:8080/"
        },
        "id": "XmK7K65CespV",
        "outputId": "8395e4b7-9d1b-4c57-8b07-6bd2acd36232"
      },
      "id": "XmK7K65CespV",
      "execution_count": 21,
      "outputs": [
        {
          "output_type": "stream",
          "name": "stdout",
          "text": [
            "              count\n",
            "(T, E, E, D)      2\n",
            "(T, N, S, S)      2\n",
            "(E, K, E, E)      2\n",
            "(A, S, N, E)      2\n",
            "(N, E, E, D)      2\n",
            "Index([('T', 'E', 'E', 'D'), ('T', 'N', 'S', 'S'), ('E', 'K', 'E', 'E'),\n",
            "       ('A', 'S', 'N', 'E'), ('N', 'E', 'E', 'D'), ('I', 'N', 'E', 'S'),\n",
            "       ('R', 'O', 'A', 'N'), ('R', 'O', 'I', 'R'), ('L', 'R', 'Y', 'E'),\n",
            "       ('F', 'A', 'L', 'S'),\n",
            "       ...\n",
            "       ('A', 'E', 'E', 'T'), ('N', 'N', 'R', 'I'), ('N', 'R', 'E', 'R'),\n",
            "       ('T', 'I', 'I', 'D'), ('I', 'A', 'A', 'S'), ('R', 'A', 'A', 'D'),\n",
            "       ('Y', 'S', 'O', 'T'), ('S', 'A', 'E', 'T'), ('R', 'T', 'R', 'V'),\n",
            "       ('Y', 'P', 'L', 'P')],\n",
            "      dtype='object', length=991)\n",
            "Index(['count'], dtype='object')\n"
          ]
        }
      ]
    },
    {
      "cell_type": "code",
      "execution_count": 30,
      "id": "ed1c7fa0-cfa3-4cf4-9fd0-9f84b86b0f64",
      "metadata": {
        "colab": {
          "base_uri": "https://localhost:8080/"
        },
        "id": "ed1c7fa0-cfa3-4cf4-9fd0-9f84b86b0f64",
        "outputId": "0349bec3-f425-4c77-8734-ea0d758fb44b"
      },
      "outputs": [
        {
          "output_type": "stream",
          "name": "stdout",
          "text": [
            "Total English Words Count: 51\n"
          ]
        }
      ],
      "source": [
        "analyzer_letters_4 = Analyzer(game_letters_4)\n",
        "perm_df_4 = analyzer_letters_4.permutation()\n",
        "words_set = set()\n",
        "with open('scrabble_words.txt','r') as f:\n",
        "    for w in f:\n",
        "        words_set.add(w.strip().upper())\n",
        "\n",
        "# Flatten the index to simplify access\n",
        "perm_df_4_reset = perm_df_4.reset_index()\n",
        "\n",
        "count_english_words_4 = 0\n",
        "for p in perm_df_4.index:\n",
        "    word = ''.join(p)  # Convert the tuple to a string\n",
        "    if word in words_set:  # Check if the word exists in the dictionary\n",
        "        try:\n",
        "            # Use flattened DataFrame for safe access\n",
        "            count = perm_df_4_reset.loc[perm_df_4_reset['index'] == p, 'count'].sum()\n",
        "            count_english_words_4 += count\n",
        "        except Exception as e:\n",
        "            print(f\"Error accessing count for {p}: {e}\")\n",
        "\n",
        "print(\"Total English Words Count:\", count_english_words_4)"
      ]
    },
    {
      "cell_type": "markdown",
      "id": "fcf068cf-381a-4b3e-ac3a-0510eb4dbdb0",
      "metadata": {
        "id": "fcf068cf-381a-4b3e-ac3a-0510eb4dbdb0"
      },
      "source": [
        "Task 4. Repeat steps #2 and #3, this time with $5$ dice. How many actual words does this produce? Which produces more?\n",
        "\n",
        "- Successfully repreats steps (1).\n",
        "- Identifies parameter with most found words (1)."
      ]
    },
    {
      "cell_type": "code",
      "source": [
        "# Flatten the MultiIndex DataFrame\n",
        "perm_df_5_reset = perm_df_5.reset_index()\n",
        "\n",
        "# Initialize the count of English words\n",
        "count_english_words_5 = 0\n",
        "\n",
        "# Iterate through the index and compute the counts\n",
        "for p in perm_df_5.index:\n",
        "    word = ''.join(p)  # Convert tuple to string\n",
        "    if word in words_set:  # Check if the word exists in the dictionary\n",
        "        # Access the flattened DataFrame to safely get the count\n",
        "        count = perm_df_5_reset.loc[perm_df_5_reset['index'] == p, 'count'].sum()\n",
        "        count_english_words_5 += count\n",
        "\n",
        "# Compare counts\n",
        "count_english_words_5, count_english_words_4"
      ],
      "metadata": {
        "colab": {
          "base_uri": "https://localhost:8080/"
        },
        "id": "LLD1eAQmPuOZ",
        "outputId": "57559658-370b-4bdc-b00e-d7412a1ce2da"
      },
      "id": "LLD1eAQmPuOZ",
      "execution_count": 32,
      "outputs": [
        {
          "output_type": "execute_result",
          "data": {
            "text/plain": [
              "(7, 51)"
            ]
          },
          "metadata": {},
          "execution_count": 32
        }
      ]
    },
    {
      "cell_type": "code",
      "source": [
        "# Display the results\n",
        "print(f\"Count of English words with 4 dice: {count_english_words_4}\")\n",
        "print(f\"Count of English words with 5 dice: {count_english_words_5}\")\n",
        "\n",
        "# Determine which produced more words\n",
        "if count_english_words_5 > count_english_words_4:\n",
        "    print(\"5 dice produced more English words than 4 dice.\")\n",
        "elif count_english_words_5 < count_english_words_4:\n",
        "    print(\"4 dice produced more English words than 5 dice.\")\n",
        "else:\n",
        "    print(\"4 dice and 5 dice produced the same number of English words.\")"
      ],
      "metadata": {
        "colab": {
          "base_uri": "https://localhost:8080/"
        },
        "id": "Bf8yA9tmgyQY",
        "outputId": "d035ae1b-8767-4169-f2ab-94395361db16"
      },
      "id": "Bf8yA9tmgyQY",
      "execution_count": 33,
      "outputs": [
        {
          "output_type": "stream",
          "name": "stdout",
          "text": [
            "Count of English words with 4 dice: 51\n",
            "Count of English words with 5 dice: 7\n",
            "4 dice produced more English words than 5 dice.\n"
          ]
        }
      ]
    }
  ],
  "metadata": {
    "kernelspec": {
      "display_name": "Python 3",
      "language": "python",
      "name": "python3"
    },
    "language_info": {
      "codemirror_mode": {
        "name": "ipython",
        "version": 3
      },
      "file_extension": ".py",
      "mimetype": "text/x-python",
      "name": "python",
      "nbconvert_exporter": "python",
      "pygments_lexer": "ipython3",
      "version": "3.11.4"
    },
    "toc-autonumbering": true,
    "colab": {
      "provenance": []
    }
  },
  "nbformat": 4,
  "nbformat_minor": 5
}